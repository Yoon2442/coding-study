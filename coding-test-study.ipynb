{
 "cells": [
  {
   "cell_type": "code",
   "execution_count": 44,
   "metadata": {},
   "outputs": [
    {
     "data": {
      "text/plain": [
       "[1, 3, 2]"
      ]
     },
     "execution_count": 44,
     "metadata": {},
     "output_type": "execute_result"
    }
   ],
   "source": [
    "def solution(progresses, speeds):\n",
    "    answer = []\n",
    "    progresses.reverse()\n",
    "    speeds.reverse()\n",
    "    count = 0\n",
    "\n",
    "    while (len(progresses) > 0):\n",
    "        progresses = [x+y for x, y in zip(progresses, speeds)]\n",
    "\n",
    "        while len(progresses) > 0 and progresses[len(progresses)-1] >= 100:\n",
    "            if progresses[len(progresses)-1] >= 100:\n",
    "                progresses.pop()\n",
    "                speeds.pop()\n",
    "                count += 1\n",
    "        \n",
    "        answer.append(count)\n",
    "        count = 0\n",
    "\n",
    "    answer = [i for i in answer if i != 0]\n",
    "    return answer\n",
    "\n",
    "\n",
    "solution([95, 90, 99, 99, 80, 99],[1, 1, 1, 1, 1, 1])\n"
   ]
  }
 ],
 "metadata": {
  "kernelspec": {
   "display_name": "conda",
   "language": "python",
   "name": "conda"
  },
  "language_info": {
   "codemirror_mode": {
    "name": "ipython",
    "version": 3
   },
   "file_extension": ".py",
   "mimetype": "text/x-python",
   "name": "python",
   "nbconvert_exporter": "python",
   "pygments_lexer": "ipython3",
   "version": "3.8.0"
  },
  "orig_nbformat": 4
 },
 "nbformat": 4,
 "nbformat_minor": 2
}
