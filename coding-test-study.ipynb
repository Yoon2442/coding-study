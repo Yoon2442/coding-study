{
 "cells": [
  {
   "cell_type": "code",
   "execution_count": 12,
   "metadata": {},
   "outputs": [
    {
     "name": "stdout",
     "output_type": "stream",
     "text": [
      "28.78787878787879\n"
     ]
    }
   ],
   "source": [
    "# 1546\n",
    "n = int(input())  # 과목 수\n",
    "test_list = list(map(int, input().split()))\n",
    "max_score = max(test_list)\n",
    "\n",
    "new_list = []\n",
    "for score in test_list :\n",
    "    new_list.append(score/max_score *100)  # 새로운 점수 생성\n",
    "test_avg = sum(new_list)/n\n",
    "print(test_avg)"
   ]
  },
  {
   "cell_type": "code",
   "execution_count": 14,
   "metadata": {},
   "outputs": [
    {
     "name": "stdout",
     "output_type": "stream",
     "text": [
      "dasdas??!\n"
     ]
    }
   ],
   "source": [
    "#  10926\n",
    "id=input()\n",
    "print(id+\"??!\")"
   ]
  },
  {
   "cell_type": "code",
   "execution_count": 20,
   "metadata": {},
   "outputs": [
    {
     "name": "stdout",
     "output_type": "stream",
     "text": [
      "1998\n"
     ]
    }
   ],
   "source": [
    "# 18108\n",
    "year=int(input())\n",
    "print(year-543)"
   ]
  },
  {
   "cell_type": "code",
   "execution_count": 21,
   "metadata": {},
   "outputs": [
    {
     "name": "stdout",
     "output_type": "stream",
     "text": [
      "10\n"
     ]
    }
   ],
   "source": [
    "# 11382\n",
    "input_list = list(map(int,input().split()))\n",
    "print(sum(input_list))"
   ]
  },
  {
   "cell_type": "code",
   "execution_count": 44,
   "metadata": {},
   "outputs": [
    {
     "name": "stdout",
     "output_type": "stream",
     "text": [
      "12 0\n"
     ]
    }
   ],
   "source": [
    "# 2525\n",
    "time = list(map(int,input().split()))\n",
    "cooking_time = int(input())\n",
    "minute=time[1]+cooking_time\n",
    "hour=time[0]\n",
    "\n",
    "if minute>59:\n",
    "    hour=time[0]+minute//60\n",
    "    minute=minute%60\n",
    "\n",
    "if hour>23:\n",
    "    hour=hour-24\n",
    "\n",
    "print(hour, minute)"
   ]
  },
  {
   "cell_type": "code",
   "execution_count": 24,
   "metadata": {},
   "outputs": [
    {
     "name": "stdout",
     "output_type": "stream",
     "text": [
      "300\n"
     ]
    }
   ],
   "source": [
    "# 2480\n",
    "numbers = list(map(int,input().split()))\n",
    "one=numbers[0]\n",
    "two=numbers[1]\n",
    "three=numbers[2]\n",
    "result=0\n",
    "if one==two and two==three:\n",
    "    result=10000+one*1000\n",
    "elif one==two and two!=three:\n",
    "    result=1000+one*100\n",
    "elif two==three and three!=one:\n",
    "    result=1000+two*100\n",
    "elif three==one and one!=two:\n",
    "    result=1000+three*100\n",
    "else:\n",
    "    max_value=max(numbers)\n",
    "    result=max_value*100\n",
    "print(result)"
   ]
  },
  {
   "cell_type": "code",
   "execution_count": null,
   "metadata": {},
   "outputs": [],
   "source": [
    "# 25304\n",
    "total = int(input())\n",
    "category = int(input())\n",
    "arr = list(0 for i in range(0, category))\n",
    "for row in range(0, category):\n",
    "    arr[row] = list(map(int, input().split()))\n",
    "\n",
    "result = 0\n",
    "for row in range(0, category):\n",
    "    result = result+arr[row][0]*arr[row][1]\n",
    "\n",
    "if total == result:\n",
    "    print(\"Yes\")\n",
    "else:\n",
    "    print(\"No\")\n"
   ]
  },
  {
   "cell_type": "code",
   "execution_count": 36,
   "metadata": {},
   "outputs": [
    {
     "name": "stdout",
     "output_type": "stream",
     "text": [
      "long long long long long int\n"
     ]
    }
   ],
   "source": [
    "# 25314\n",
    "n=int(input())\n",
    "s=\"\"\n",
    "for i in range(0,n//4):\n",
    "    s=s+\"long \"\n",
    "s=s+\"int\"\n",
    "print(s) \n",
    "# git init test"
   ]
  },
  {
   "cell_type": "code",
   "execution_count": 11,
   "metadata": {},
   "outputs": [
    {
     "name": "stdout",
     "output_type": "stream",
     "text": [
      "[1, 2, 3, 4, 5]\n",
      "0\n",
      "1\n"
     ]
    }
   ],
   "source": [
    "# 10807\n",
    "n = int(input())\n",
    "arr = list(map(int,input().split()))\n",
    "v = int(input())\n",
    "count=0\n",
    "\n",
    "for i in arr:\n",
    "    if i==v:\n",
    "        count+=1\n",
    "\n",
    "print(count)"
   ]
  },
  {
   "cell_type": "code",
   "execution_count": 32,
   "metadata": {},
   "outputs": [
    {
     "name": "stdout",
     "output_type": "stream",
     "text": [
      "1 2 1 1 0\n"
     ]
    }
   ],
   "source": [
    "# 10810\n",
    "n, m = list(map(int, input().split()))\n",
    "\n",
    "rule = [0 for _ in range(m)]\n",
    "for i in range(m):\n",
    "    rule[i] = list(map(int, input().split()))\n",
    "\n",
    "basket = list(0 for i in range(n))\n",
    "\n",
    "for i in rule:\n",
    "    for j in range(i[0]-1,i[1]):\n",
    "        basket[j]=i[2];\n",
    "print(*basket)\n"
   ]
  }
 ],
 "metadata": {
  "kernelspec": {
   "display_name": "conda",
   "language": "python",
   "name": "conda"
  },
  "language_info": {
   "codemirror_mode": {
    "name": "ipython",
    "version": 3
   },
   "file_extension": ".py",
   "mimetype": "text/x-python",
   "name": "python",
   "nbconvert_exporter": "python",
   "pygments_lexer": "ipython3",
   "version": "3.8.0"
  },
  "orig_nbformat": 4
 },
 "nbformat": 4,
 "nbformat_minor": 2
}
