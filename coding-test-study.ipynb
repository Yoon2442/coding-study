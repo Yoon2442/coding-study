{
 "cells": [
  {
   "cell_type": "code",
   "execution_count": 12,
   "metadata": {},
   "outputs": [
    {
     "name": "stdout",
     "output_type": "stream",
     "text": [
      "28.78787878787879\n"
     ]
    }
   ],
   "source": [
    "# 1546\n",
    "n = int(input())  # 과목 수\n",
    "test_list = list(map(int, input().split()))\n",
    "max_score = max(test_list)\n",
    "\n",
    "new_list = []\n",
    "for score in test_list:\n",
    "    new_list.append(score/max_score * 100)  # 새로운 점수 생성\n",
    "test_avg = sum(new_list)/n\n",
    "print(test_avg)\n"
   ]
  },
  {
   "cell_type": "code",
   "execution_count": 14,
   "metadata": {},
   "outputs": [
    {
     "name": "stdout",
     "output_type": "stream",
     "text": [
      "dasdas??!\n"
     ]
    }
   ],
   "source": [
    "#  10926\n",
    "id = input()\n",
    "print(id+\"??!\")\n"
   ]
  },
  {
   "cell_type": "code",
   "execution_count": 20,
   "metadata": {},
   "outputs": [
    {
     "name": "stdout",
     "output_type": "stream",
     "text": [
      "1998\n"
     ]
    }
   ],
   "source": [
    "# 18108\n",
    "year = int(input())\n",
    "print(year-543)\n"
   ]
  },
  {
   "cell_type": "code",
   "execution_count": 21,
   "metadata": {},
   "outputs": [
    {
     "name": "stdout",
     "output_type": "stream",
     "text": [
      "10\n"
     ]
    }
   ],
   "source": [
    "# 11382\n",
    "input_list = list(map(int, input().split()))\n",
    "print(sum(input_list))\n"
   ]
  },
  {
   "cell_type": "code",
   "execution_count": 44,
   "metadata": {},
   "outputs": [
    {
     "name": "stdout",
     "output_type": "stream",
     "text": [
      "12 0\n"
     ]
    }
   ],
   "source": [
    "# 2525\n",
    "time = list(map(int, input().split()))\n",
    "cooking_time = int(input())\n",
    "minute = time[1]+cooking_time\n",
    "hour = time[0]\n",
    "\n",
    "if minute > 59:\n",
    "    hour = time[0]+minute//60\n",
    "    minute = minute % 60\n",
    "\n",
    "if hour > 23:\n",
    "    hour = hour-24\n",
    "\n",
    "print(hour, minute)\n"
   ]
  },
  {
   "cell_type": "code",
   "execution_count": 24,
   "metadata": {},
   "outputs": [
    {
     "name": "stdout",
     "output_type": "stream",
     "text": [
      "300\n"
     ]
    }
   ],
   "source": [
    "# 2480\n",
    "numbers = list(map(int, input().split()))\n",
    "one = numbers[0]\n",
    "two = numbers[1]\n",
    "three = numbers[2]\n",
    "result = 0\n",
    "if one == two and two == three:\n",
    "    result = 10000+one*1000\n",
    "elif one == two and two != three:\n",
    "    result = 1000+one*100\n",
    "elif two == three and three != one:\n",
    "    result = 1000+two*100\n",
    "elif three == one and one != two:\n",
    "    result = 1000+three*100\n",
    "else:\n",
    "    max_value = max(numbers)\n",
    "    result = max_value*100\n",
    "print(result)\n"
   ]
  },
  {
   "cell_type": "code",
   "execution_count": null,
   "metadata": {},
   "outputs": [],
   "source": [
    "# 25304\n",
    "total = int(input())\n",
    "category = int(input())\n",
    "arr = list(0 for i in range(0, category))\n",
    "for row in range(0, category):\n",
    "    arr[row] = list(map(int, input().split()))\n",
    "\n",
    "result = 0\n",
    "for row in range(0, category):\n",
    "    result = result+arr[row][0]*arr[row][1]\n",
    "\n",
    "if total == result:\n",
    "    print(\"Yes\")\n",
    "else:\n",
    "    print(\"No\")\n"
   ]
  },
  {
   "cell_type": "code",
   "execution_count": 36,
   "metadata": {},
   "outputs": [
    {
     "name": "stdout",
     "output_type": "stream",
     "text": [
      "long long long long long int\n"
     ]
    }
   ],
   "source": [
    "# 25314\n",
    "n = int(input())\n",
    "s = \"\"\n",
    "for i in range(0, n//4):\n",
    "    s = s+\"long \"\n",
    "s = s+\"int\"\n",
    "print(s)\n",
    "# git init test\n"
   ]
  },
  {
   "cell_type": "code",
   "execution_count": 11,
   "metadata": {},
   "outputs": [
    {
     "name": "stdout",
     "output_type": "stream",
     "text": [
      "[1, 2, 3, 4, 5]\n",
      "0\n",
      "1\n"
     ]
    }
   ],
   "source": [
    "# 10807\n",
    "n = int(input())\n",
    "arr = list(map(int, input().split()))\n",
    "v = int(input())\n",
    "count = 0\n",
    "\n",
    "for i in arr:\n",
    "    if i == v:\n",
    "        count += 1\n",
    "\n",
    "print(count)\n"
   ]
  },
  {
   "cell_type": "code",
   "execution_count": 32,
   "metadata": {},
   "outputs": [
    {
     "name": "stdout",
     "output_type": "stream",
     "text": [
      "1 2 1 1 0\n"
     ]
    }
   ],
   "source": [
    "# 10810\n",
    "n, m = list(map(int, input().split()))\n",
    "\n",
    "rule = [0 for _ in range(m)]\n",
    "for i in range(m):\n",
    "    rule[i] = list(map(int, input().split()))\n",
    "\n",
    "basket = list(0 for i in range(n))\n",
    "\n",
    "for i in rule:\n",
    "    for j in range(i[0]-1, i[1]):\n",
    "        basket[j] = i[2]\n",
    "print(*basket)\n"
   ]
  },
  {
   "cell_type": "code",
   "execution_count": 4,
   "metadata": {},
   "outputs": [
    {
     "name": "stdout",
     "output_type": "stream",
     "text": [
      "3 1 4 2 5\n"
     ]
    }
   ],
   "source": [
    "# 10813\n",
    "n, m = list(map(int, input().split()))\n",
    "basket = list(i+1 for i in range(n))\n",
    "\n",
    "rule = [0 for _ in range(m)]\n",
    "for i in range(m):\n",
    "    rule[i] = list(map(int, input().split()))\n",
    "\n",
    "for i in rule:\n",
    "    temp = basket[i[0]-1]\n",
    "    basket[i[0]-1] = basket[i[1]-1]\n",
    "    basket[i[1]-1] = temp\n",
    "\n",
    "print(*basket)\n"
   ]
  },
  {
   "cell_type": "code",
   "execution_count": 10,
   "metadata": {},
   "outputs": [
    {
     "name": "stdout",
     "output_type": "stream",
     "text": [
      "8\n",
      "2\n"
     ]
    }
   ],
   "source": [
    "# 5597\n",
    "numbers = []\n",
    "for i in range(0, 28):\n",
    "    numbers.append(int(input()))\n",
    "compare_list = [i+1 for i in range(0, 30)]\n",
    "set1 = set(numbers)\n",
    "set2 = set(compare_list)\n",
    "print(min(set2-set1))\n",
    "print(max(set2-set1))\n"
   ]
  },
  {
   "cell_type": "code",
   "execution_count": null,
   "metadata": {},
   "outputs": [],
   "source": [
    "# 10811\n",
    "n, m = list(map(int, input().split()))\n",
    "\n",
    "basket = [i+1 for i in range(0, n)]\n",
    "rule = [0 for _ in range(m)]\n",
    "for i in range(m):\n",
    "    rule[i] = list(map(int, input().split()))\n",
    "\n",
    "for i in rule:\n",
    "    first = i[0]-1\n",
    "    last = i[1]-1\n",
    "    temp = [basket[k] for k in range(first, last+1)]\n",
    "    temp.reverse()\n",
    "    for j in range(first, last+1):\n",
    "        basket[j] = temp[j-first]\n",
    "print(*basket)\n"
   ]
  },
  {
   "cell_type": "code",
   "execution_count": 54,
   "metadata": {},
   "outputs": [
    {
     "name": "stdout",
     "output_type": "stream",
     "text": [
      "k\n"
     ]
    }
   ],
   "source": [
    "# 27866\n",
    "s = input()\n",
    "i = int(input())\n",
    "print(s[i-1])\n"
   ]
  },
  {
   "cell_type": "code",
   "execution_count": 55,
   "metadata": {},
   "outputs": [
    {
     "name": "stdout",
     "output_type": "stream",
     "text": [
      "4\n"
     ]
    }
   ],
   "source": [
    "# 2743\n",
    "s = input()\n",
    "print(len(s))\n"
   ]
  },
  {
   "cell_type": "code",
   "execution_count": 3,
   "metadata": {},
   "outputs": [
    {
     "name": "stdout",
     "output_type": "stream",
     "text": [
      "ad\n"
     ]
    }
   ],
   "source": [
    "# 9086\n",
    "T = int(input())\n",
    "test_case = []\n",
    "for i in range(0, T):\n",
    "    test_case.append(input())\n",
    "\n",
    "for i in test_case:\n",
    "    print(i[0]+i[len(i)-1])\n"
   ]
  },
  {
   "cell_type": "code",
   "execution_count": null,
   "metadata": {},
   "outputs": [],
   "source": [
    "# 11718\n",
    "while True:\n",
    "    try:\n",
    "        print(input())\n",
    "    except EOFError:\n",
    "        break\n"
   ]
  },
  {
   "cell_type": "code",
   "execution_count": 8,
   "metadata": {},
   "outputs": [
    {
     "name": "stdout",
     "output_type": "stream",
     "text": [
      "         ,r'\"7\n",
      "r`-_   ,'  ,/\n",
      " \\. \". L_r'\n",
      "   `~\\/\n",
      "      |\n",
      "      |\n"
     ]
    }
   ],
   "source": [
    "# 25083\n",
    "print(\"         ,r'\\\"7\")\n",
    "print(\"r`-_   ,'  ,/\")\n",
    "print(\" \\\\. \\\". L_r'\")\n",
    "print(\"   `~\\\\/\")\n",
    "print(\"      |\")\n",
    "print(\"      |\")\n"
   ]
  },
  {
   "cell_type": "code",
   "execution_count": 11,
   "metadata": {},
   "outputs": [
    {
     "name": "stdout",
     "output_type": "stream",
     "text": [
      "1 0 0 0 0 1\n"
     ]
    }
   ],
   "source": [
    "# 3003\n",
    "chess = list(map(int, input().split()))\n",
    "compare = [1, 1, 2, 2, 2, 8]\n",
    "result = [0 for i in range(0, 6)]\n",
    "for i in range(0, 6):\n",
    "    result[i] = compare[i]-chess[i]\n",
    "print(*result)\n"
   ]
  },
  {
   "cell_type": "code",
   "execution_count": 4,
   "metadata": {},
   "outputs": [
    {
     "name": "stdout",
     "output_type": "stream",
     "text": [
      "    *\n",
      "   ***\n",
      "  *****\n",
      " *******\n",
      "*********\n",
      " *******\n",
      "  *****\n",
      "   ***\n",
      "    *\n"
     ]
    }
   ],
   "source": [
    "# 2444\n",
    "n = int(input())\n",
    "for i in range(1, n):\n",
    "    print(' '*(n-i) + '*'*(2*i-1))\n",
    "for i in range(n, 0, -1):\n",
    "    print(' '*(n-i) + '*'*(2*i-1))\n"
   ]
  },
  {
   "cell_type": "code",
   "execution_count": 30,
   "metadata": {},
   "outputs": [
    {
     "name": "stdout",
     "output_type": "stream",
     "text": [
      "[4, 5, 6, 1, 2, 3]\n",
      "[8, 9, 6, 1, 2, 3, 7]\n",
      "[6, 1, 2, 3, 7, 10, 5, 8, 9]\n",
      "[1, 4, 6]\n",
      "[4, 6, 2, 3, 7]\n",
      "1 4 6 2 3 7 10 5 8 9\n"
     ]
    }
   ],
   "source": [
    "# 10812\n",
    "n, m = list(map(int, input().split()))\n",
    "rule = [0 for _ in range(m)]\n",
    "for i in range(0, m):\n",
    "    rule[i] = list(map(int, input().split()))\n",
    "basket = [i for i in range(1, n+1)]\n",
    "for row in rule:\n",
    "    begin = row[0]-1\n",
    "    end = row[1]\n",
    "    mid = row[2]-1\n",
    "\n",
    "    left = basket[begin:mid]\n",
    "    right = basket[mid:end]\n",
    "\n",
    "    del basket[begin:end]\n",
    "    rotated_list = [*right, *left]\n",
    "    basket[begin:begin] = rotated_list\n",
    "\n",
    "print(*basket)\n"
   ]
  },
  {
   "cell_type": "code",
   "execution_count": 39,
   "metadata": {},
   "outputs": [
    {
     "name": "stdout",
     "output_type": "stream",
     "text": [
      "0\n"
     ]
    }
   ],
   "source": [
    "# 10988\n",
    "s=input()\n",
    "checker=0\n",
    "for i in range(0,len(s)//2):\n",
    "    if s[i]==s[len(s)-1-i]:\n",
    "        checker+=0\n",
    "    else:\n",
    "        checker+=1\n",
    "if checker>0:\n",
    "    print(0)\n",
    "else:\n",
    "    print(1)"
   ]
  },
  {
   "cell_type": "code",
   "execution_count": 76,
   "metadata": {},
   "outputs": [
    {
     "name": "stdout",
     "output_type": "stream",
     "text": [
      "[['ObjectOrientedProgramming1', '3.0', 'A+'], ['ObjectOrientedProgramming1', '3.0', 'A+'], ['ObjectOrientedProgramming1', '3.0', 'A+'], ['ObjectOrientedProgramming1', '3.0', 'A+'], ['ObjectOrientedProgramming1', '3.0', 'A+'], ['ObjectOrientedProgramming1', '3.0', 'A+'], ['ObjectOrientedProgramming1', '3.0', 'A+'], ['ObjectOrientedProgramming1', '3.0', 'A+'], ['ObjectOrientedProgramming1', '3.0', 'A+'], ['ObjectOrientedProgramming1', '3.0', 'A+'], ['ObjectOrientedProgramming1', '3.0', 'A+'], ['ObjectOrientedProgramming1', '3.0', 'A+'], ['ObjectOrientedProgramming1', '3.0', 'A+'], ['ObjectOrientedProgramming1', '3.0', 'A+'], ['ObjectOrientedProgramming1', '3.0', 'A+'], ['ObjectOrientedProgramming1', '3.0', 'A+'], ['ObjectOrientedProgramming1', '3.0', 'A+'], ['ObjectOrientedProgramming1', '3.0', 'A+'], ['ObjectOrientedProgramming1', '3.0', 'A+'], ['ObjectOrientedProgramming1', '3.0', 'A+']]\n",
      "4.5\n"
     ]
    }
   ],
   "source": [
    "# 25206\n",
    "score=[]\n",
    "for _ in range(20) :\n",
    "    score.append(input().split())\n",
    "\n",
    "count = 0\n",
    "sum = 0\n",
    "\n",
    "for row in score:\n",
    "    credit = row[1]\n",
    "    grade = row[2]\n",
    "    grade_score = 0\n",
    "\n",
    "    if grade == \"P\":\n",
    "        pass\n",
    "    else:\n",
    "        if grade == \"A+\":\n",
    "            grade_score = 4.5\n",
    "        elif grade == \"A0\":\n",
    "            grade_score = 4.0\n",
    "        elif grade == \"B+\":\n",
    "            grade_score = 3.5\n",
    "        elif grade == \"B0\":\n",
    "            grade_score = 3.0\n",
    "        elif grade == \"C+\":\n",
    "            grade_score = 2.5\n",
    "        elif grade == \"C0\":\n",
    "            grade_score = 2.0\n",
    "        elif grade == \"D+\":\n",
    "            grade_score = 1.5\n",
    "        elif grade == \"D0\":\n",
    "            grade_score = 1.0\n",
    "        elif grade == \"F\":\n",
    "            grade_score = 0.0\n",
    "        sum = sum+(float(credit)*float(grade_score))\n",
    "        count=count+float(credit)\n",
    "print(sum/count)\n"
   ]
  },
  {
   "cell_type": "code",
   "execution_count": 80,
   "metadata": {},
   "outputs": [
    {
     "name": "stdout",
     "output_type": "stream",
     "text": [
      "4 4 4 \n",
      "6 6 6 \n",
      "5 6 100 \n"
     ]
    }
   ],
   "source": [
    "# 2738\n",
    "a, b =[],[]\n",
    "n,m = list(map(int,input().split()))\n",
    "\n",
    "for row in range(n):\n",
    "    row = list(map(int,input().split()))\n",
    "    a.append(row)\n",
    "for row in range(n):\n",
    "    row = list(map(int,input().split()))\n",
    "    b.append(row)\n",
    "\n",
    "for row in range(n):\n",
    "    for col in range(m):\n",
    "       print(a[row][col] + b[row][col], end=' ')\n",
    "    print()"
   ]
  },
  {
   "cell_type": "code",
   "execution_count": 87,
   "metadata": {},
   "outputs": [
    {
     "name": "stdout",
     "output_type": "stream",
     "text": [
      "0\n",
      "1 1\n"
     ]
    }
   ],
   "source": [
    "#2566\n",
    "matrix = []\n",
    "for row in range(0, 9):\n",
    "    row = list(map(int, input().split()))\n",
    "    matrix.append(row)\n",
    "\n",
    "row_num = 0\n",
    "col_num = 0\n",
    "value = 0\n",
    "\n",
    "for row in range(len(matrix)):\n",
    "    for col in range(len(matrix[row])):\n",
    "        if (value <= matrix[row][col]):\n",
    "            row_num = row\n",
    "            col_num = col\n",
    "            value = matrix[row][col]\n",
    "\n",
    "print(value)\n",
    "print(row_num+1, col_num+1)\n"
   ]
  }
 ],
 "metadata": {
  "kernelspec": {
   "display_name": "conda",
   "language": "python",
   "name": "conda"
  },
  "language_info": {
   "codemirror_mode": {
    "name": "ipython",
    "version": 3
   },
   "file_extension": ".py",
   "mimetype": "text/x-python",
   "name": "python",
   "nbconvert_exporter": "python",
   "pygments_lexer": "ipython3",
   "version": "3.8.0"
  },
  "orig_nbformat": 4
 },
 "nbformat": 4,
 "nbformat_minor": 2
}
