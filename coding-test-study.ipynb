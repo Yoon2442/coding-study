{
 "cells": [
  {
   "cell_type": "code",
   "execution_count": 12,
   "metadata": {},
   "outputs": [
    {
     "name": "stdout",
     "output_type": "stream",
     "text": [
      "28.78787878787879\n"
     ]
    }
   ],
   "source": [
    "# 1546\n",
    "n = int(input())  # 과목 수\n",
    "test_list = list(map(int, input().split()))\n",
    "max_score = max(test_list)\n",
    "\n",
    "new_list = []\n",
    "for score in test_list:\n",
    "    new_list.append(score/max_score * 100)  # 새로운 점수 생성\n",
    "test_avg = sum(new_list)/n\n",
    "print(test_avg)\n"
   ]
  },
  {
   "cell_type": "code",
   "execution_count": 14,
   "metadata": {},
   "outputs": [
    {
     "name": "stdout",
     "output_type": "stream",
     "text": [
      "dasdas??!\n"
     ]
    }
   ],
   "source": [
    "#  10926\n",
    "id = input()\n",
    "print(id+\"??!\")\n"
   ]
  },
  {
   "cell_type": "code",
   "execution_count": 20,
   "metadata": {},
   "outputs": [
    {
     "name": "stdout",
     "output_type": "stream",
     "text": [
      "1998\n"
     ]
    }
   ],
   "source": [
    "# 18108\n",
    "year = int(input())\n",
    "print(year-543)\n"
   ]
  },
  {
   "cell_type": "code",
   "execution_count": 21,
   "metadata": {},
   "outputs": [
    {
     "name": "stdout",
     "output_type": "stream",
     "text": [
      "10\n"
     ]
    }
   ],
   "source": [
    "# 11382\n",
    "input_list = list(map(int, input().split()))\n",
    "print(sum(input_list))\n"
   ]
  },
  {
   "cell_type": "code",
   "execution_count": 44,
   "metadata": {},
   "outputs": [
    {
     "name": "stdout",
     "output_type": "stream",
     "text": [
      "12 0\n"
     ]
    }
   ],
   "source": [
    "# 2525\n",
    "time = list(map(int, input().split()))\n",
    "cooking_time = int(input())\n",
    "minute = time[1]+cooking_time\n",
    "hour = time[0]\n",
    "\n",
    "if minute > 59:\n",
    "    hour = time[0]+minute//60\n",
    "    minute = minute % 60\n",
    "\n",
    "if hour > 23:\n",
    "    hour = hour-24\n",
    "\n",
    "print(hour, minute)\n"
   ]
  },
  {
   "cell_type": "code",
   "execution_count": 24,
   "metadata": {},
   "outputs": [
    {
     "name": "stdout",
     "output_type": "stream",
     "text": [
      "300\n"
     ]
    }
   ],
   "source": [
    "# 2480\n",
    "numbers = list(map(int, input().split()))\n",
    "one = numbers[0]\n",
    "two = numbers[1]\n",
    "three = numbers[2]\n",
    "result = 0\n",
    "if one == two and two == three:\n",
    "    result = 10000+one*1000\n",
    "elif one == two and two != three:\n",
    "    result = 1000+one*100\n",
    "elif two == three and three != one:\n",
    "    result = 1000+two*100\n",
    "elif three == one and one != two:\n",
    "    result = 1000+three*100\n",
    "else:\n",
    "    max_value = max(numbers)\n",
    "    result = max_value*100\n",
    "print(result)\n"
   ]
  },
  {
   "cell_type": "code",
   "execution_count": null,
   "metadata": {},
   "outputs": [],
   "source": [
    "# 25304\n",
    "total = int(input())\n",
    "category = int(input())\n",
    "arr = list(0 for i in range(0, category))\n",
    "for row in range(0, category):\n",
    "    arr[row] = list(map(int, input().split()))\n",
    "\n",
    "result = 0\n",
    "for row in range(0, category):\n",
    "    result = result+arr[row][0]*arr[row][1]\n",
    "\n",
    "if total == result:\n",
    "    print(\"Yes\")\n",
    "else:\n",
    "    print(\"No\")\n"
   ]
  },
  {
   "cell_type": "code",
   "execution_count": 36,
   "metadata": {},
   "outputs": [
    {
     "name": "stdout",
     "output_type": "stream",
     "text": [
      "long long long long long int\n"
     ]
    }
   ],
   "source": [
    "# 25314\n",
    "n = int(input())\n",
    "s = \"\"\n",
    "for j in range(0, n//4):\n",
    "    s = s+\"long \"\n",
    "s = s+\"int\"\n",
    "print(s)\n",
    "# git init test\n"
   ]
  },
  {
   "cell_type": "code",
   "execution_count": 11,
   "metadata": {},
   "outputs": [
    {
     "name": "stdout",
     "output_type": "stream",
     "text": [
      "[1, 2, 3, 4, 5]\n",
      "0\n",
      "1\n"
     ]
    }
   ],
   "source": [
    "# 10807\n",
    "n = int(input())\n",
    "arr = list(map(int, input().split()))\n",
    "v = int(input())\n",
    "answer = 0\n",
    "\n",
    "for j in arr:\n",
    "    if j == v:\n",
    "        answer += 1\n",
    "\n",
    "print(answer)\n"
   ]
  },
  {
   "cell_type": "code",
   "execution_count": 32,
   "metadata": {},
   "outputs": [
    {
     "name": "stdout",
     "output_type": "stream",
     "text": [
      "1 2 1 1 0\n"
     ]
    }
   ],
   "source": [
    "# 10810\n",
    "n, m = list(map(int, input().split()))\n",
    "\n",
    "rule = [0 for _ in range(m)]\n",
    "for j in range(m):\n",
    "    rule[j] = list(map(int, input().split()))\n",
    "\n",
    "basket = list(0 for i in range(n))\n",
    "\n",
    "for j in rule:\n",
    "    for j in range(j[0]-1, j[1]):\n",
    "        basket[j] = j[2]\n",
    "print(*basket)\n"
   ]
  },
  {
   "cell_type": "code",
   "execution_count": 4,
   "metadata": {},
   "outputs": [
    {
     "name": "stdout",
     "output_type": "stream",
     "text": [
      "3 1 4 2 5\n"
     ]
    }
   ],
   "source": [
    "# 10813\n",
    "n, m = list(map(int, input().split()))\n",
    "basket = list(i+1 for i in range(n))\n",
    "\n",
    "rule = [0 for _ in range(m)]\n",
    "for j in range(m):\n",
    "    rule[j] = list(map(int, input().split()))\n",
    "\n",
    "for j in rule:\n",
    "    temp = basket[j[0]-1]\n",
    "    basket[j[0]-1] = basket[j[1]-1]\n",
    "    basket[j[1]-1] = temp\n",
    "\n",
    "print(*basket)\n"
   ]
  },
  {
   "cell_type": "code",
   "execution_count": 10,
   "metadata": {},
   "outputs": [
    {
     "name": "stdout",
     "output_type": "stream",
     "text": [
      "8\n",
      "2\n"
     ]
    }
   ],
   "source": [
    "# 5597\n",
    "numbers = []\n",
    "for j in range(0, 28):\n",
    "    numbers.append(int(input()))\n",
    "compare_list = [i+1 for i in range(0, 30)]\n",
    "set1 = set(numbers)\n",
    "set2 = set(compare_list)\n",
    "print(min(set2-set1))\n",
    "print(max(set2-set1))\n"
   ]
  },
  {
   "cell_type": "code",
   "execution_count": null,
   "metadata": {},
   "outputs": [],
   "source": [
    "# 10811\n",
    "n, m = list(map(int, input().split()))\n",
    "\n",
    "basket = [i+1 for i in range(0, n)]\n",
    "rule = [0 for _ in range(m)]\n",
    "for j in range(m):\n",
    "    rule[j] = list(map(int, input().split()))\n",
    "\n",
    "for j in rule:\n",
    "    first = j[0]-1\n",
    "    last = j[1]-1\n",
    "    temp = [basket[k] for k in range(first, last+1)]\n",
    "    temp.reverse()\n",
    "    for j in range(first, last+1):\n",
    "        basket[j] = temp[j-first]\n",
    "print(*basket)\n"
   ]
  },
  {
   "cell_type": "code",
   "execution_count": 54,
   "metadata": {},
   "outputs": [
    {
     "name": "stdout",
     "output_type": "stream",
     "text": [
      "k\n"
     ]
    }
   ],
   "source": [
    "# 27866\n",
    "s = input()\n",
    "j = int(input())\n",
    "print(s[j-1])\n"
   ]
  },
  {
   "cell_type": "code",
   "execution_count": 55,
   "metadata": {},
   "outputs": [
    {
     "name": "stdout",
     "output_type": "stream",
     "text": [
      "4\n"
     ]
    }
   ],
   "source": [
    "# 2743\n",
    "s = input()\n",
    "print(len(s))\n"
   ]
  },
  {
   "cell_type": "code",
   "execution_count": 3,
   "metadata": {},
   "outputs": [
    {
     "name": "stdout",
     "output_type": "stream",
     "text": [
      "ad\n"
     ]
    }
   ],
   "source": [
    "# 9086\n",
    "T = int(input())\n",
    "test_case = []\n",
    "for j in range(0, T):\n",
    "    test_case.append(input())\n",
    "\n",
    "for j in test_case:\n",
    "    print(j[0]+j[len(j)-1])\n"
   ]
  },
  {
   "cell_type": "code",
   "execution_count": null,
   "metadata": {},
   "outputs": [],
   "source": [
    "# 11718\n",
    "while True:\n",
    "    try:\n",
    "        print(input())\n",
    "    except EOFError:\n",
    "        break\n"
   ]
  },
  {
   "cell_type": "code",
   "execution_count": 8,
   "metadata": {},
   "outputs": [
    {
     "name": "stdout",
     "output_type": "stream",
     "text": [
      "         ,r'\"7\n",
      "r`-_   ,'  ,/\n",
      " \\. \". L_r'\n",
      "   `~\\/\n",
      "      |\n",
      "      |\n"
     ]
    }
   ],
   "source": [
    "# 25083\n",
    "print(\"         ,r'\\\"7\")\n",
    "print(\"r`-_   ,'  ,/\")\n",
    "print(\" \\\\. \\\". L_r'\")\n",
    "print(\"   `~\\\\/\")\n",
    "print(\"      |\")\n",
    "print(\"      |\")\n"
   ]
  },
  {
   "cell_type": "code",
   "execution_count": 11,
   "metadata": {},
   "outputs": [
    {
     "name": "stdout",
     "output_type": "stream",
     "text": [
      "1 0 0 0 0 1\n"
     ]
    }
   ],
   "source": [
    "# 3003\n",
    "chess = list(map(int, input().split()))\n",
    "compare = [1, 1, 2, 2, 2, 8]\n",
    "result = [0 for i in range(0, 6)]\n",
    "for j in range(0, 6):\n",
    "    result[j] = compare[j]-chess[j]\n",
    "print(*result)\n"
   ]
  },
  {
   "cell_type": "code",
   "execution_count": 4,
   "metadata": {},
   "outputs": [
    {
     "name": "stdout",
     "output_type": "stream",
     "text": [
      "    *\n",
      "   ***\n",
      "  *****\n",
      " *******\n",
      "*********\n",
      " *******\n",
      "  *****\n",
      "   ***\n",
      "    *\n"
     ]
    }
   ],
   "source": [
    "# 2444\n",
    "n = int(input())\n",
    "for j in range(1, n):\n",
    "    print(' '*(n-j) + '*'*(2*j-1))\n",
    "for j in range(n, 0, -1):\n",
    "    print(' '*(n-j) + '*'*(2*j-1))\n"
   ]
  },
  {
   "cell_type": "code",
   "execution_count": 30,
   "metadata": {},
   "outputs": [
    {
     "name": "stdout",
     "output_type": "stream",
     "text": [
      "[4, 5, 6, 1, 2, 3]\n",
      "[8, 9, 6, 1, 2, 3, 7]\n",
      "[6, 1, 2, 3, 7, 10, 5, 8, 9]\n",
      "[1, 4, 6]\n",
      "[4, 6, 2, 3, 7]\n",
      "1 4 6 2 3 7 10 5 8 9\n"
     ]
    }
   ],
   "source": [
    "# 10812\n",
    "n, m = list(map(int, input().split()))\n",
    "rule = [0 for _ in range(m)]\n",
    "for j in range(0, m):\n",
    "    rule[j] = list(map(int, input().split()))\n",
    "basket = [i for i in range(1, n+1)]\n",
    "for row in rule:\n",
    "    begin = row[0]-1\n",
    "    end = row[1]\n",
    "    mid = row[2]-1\n",
    "\n",
    "    left = basket[begin:mid]\n",
    "    right = basket[mid:end]\n",
    "\n",
    "    del basket[begin:end]\n",
    "    rotated_list = [*right, *left]\n",
    "    basket[begin:begin] = rotated_list\n",
    "\n",
    "print(*basket)\n"
   ]
  },
  {
   "cell_type": "code",
   "execution_count": 39,
   "metadata": {},
   "outputs": [
    {
     "name": "stdout",
     "output_type": "stream",
     "text": [
      "0\n"
     ]
    }
   ],
   "source": [
    "# 10988\n",
    "s = input()\n",
    "checker = 0\n",
    "for j in range(0, len(s)//2):\n",
    "    if s[j] == s[len(s)-1-j]:\n",
    "        checker += 0\n",
    "    else:\n",
    "        checker += 1\n",
    "if checker > 0:\n",
    "    print(0)\n",
    "else:\n",
    "    print(1)\n"
   ]
  },
  {
   "cell_type": "code",
   "execution_count": 76,
   "metadata": {},
   "outputs": [
    {
     "name": "stdout",
     "output_type": "stream",
     "text": [
      "[['ObjectOrientedProgramming1', '3.0', 'A+'], ['ObjectOrientedProgramming1', '3.0', 'A+'], ['ObjectOrientedProgramming1', '3.0', 'A+'], ['ObjectOrientedProgramming1', '3.0', 'A+'], ['ObjectOrientedProgramming1', '3.0', 'A+'], ['ObjectOrientedProgramming1', '3.0', 'A+'], ['ObjectOrientedProgramming1', '3.0', 'A+'], ['ObjectOrientedProgramming1', '3.0', 'A+'], ['ObjectOrientedProgramming1', '3.0', 'A+'], ['ObjectOrientedProgramming1', '3.0', 'A+'], ['ObjectOrientedProgramming1', '3.0', 'A+'], ['ObjectOrientedProgramming1', '3.0', 'A+'], ['ObjectOrientedProgramming1', '3.0', 'A+'], ['ObjectOrientedProgramming1', '3.0', 'A+'], ['ObjectOrientedProgramming1', '3.0', 'A+'], ['ObjectOrientedProgramming1', '3.0', 'A+'], ['ObjectOrientedProgramming1', '3.0', 'A+'], ['ObjectOrientedProgramming1', '3.0', 'A+'], ['ObjectOrientedProgramming1', '3.0', 'A+'], ['ObjectOrientedProgramming1', '3.0', 'A+']]\n",
      "4.5\n"
     ]
    }
   ],
   "source": [
    "# 25206\n",
    "score = []\n",
    "for _ in range(20):\n",
    "    score.append(input().split())\n",
    "\n",
    "answer = 0\n",
    "sum = 0\n",
    "\n",
    "for row in score:\n",
    "    credit = row[1]\n",
    "    grade = row[2]\n",
    "    grade_score = 0\n",
    "\n",
    "    if grade == \"P\":\n",
    "        pass\n",
    "    else:\n",
    "        if grade == \"A+\":\n",
    "            grade_score = 4.5\n",
    "        elif grade == \"A0\":\n",
    "            grade_score = 4.0\n",
    "        elif grade == \"B+\":\n",
    "            grade_score = 3.5\n",
    "        elif grade == \"B0\":\n",
    "            grade_score = 3.0\n",
    "        elif grade == \"C+\":\n",
    "            grade_score = 2.5\n",
    "        elif grade == \"C0\":\n",
    "            grade_score = 2.0\n",
    "        elif grade == \"D+\":\n",
    "            grade_score = 1.5\n",
    "        elif grade == \"D0\":\n",
    "            grade_score = 1.0\n",
    "        elif grade == \"F\":\n",
    "            grade_score = 0.0\n",
    "        sum = sum+(float(credit)*float(grade_score))\n",
    "        answer = answer+float(credit)\n",
    "print(sum/answer)\n"
   ]
  },
  {
   "cell_type": "code",
   "execution_count": 80,
   "metadata": {},
   "outputs": [
    {
     "name": "stdout",
     "output_type": "stream",
     "text": [
      "4 4 4 \n",
      "6 6 6 \n",
      "5 6 100 \n"
     ]
    }
   ],
   "source": [
    "# 2738\n",
    "a, b = [], []\n",
    "n, m = list(map(int, input().split()))\n",
    "\n",
    "for row in range(n):\n",
    "    row = list(map(int, input().split()))\n",
    "    a.append(row)\n",
    "for row in range(n):\n",
    "    row = list(map(int, input().split()))\n",
    "    b.append(row)\n",
    "\n",
    "for row in range(n):\n",
    "    for col in range(m):\n",
    "        print(a[row][col] + b[row][col], end=' ')\n",
    "    print()\n"
   ]
  },
  {
   "cell_type": "code",
   "execution_count": 87,
   "metadata": {},
   "outputs": [
    {
     "name": "stdout",
     "output_type": "stream",
     "text": [
      "0\n",
      "1 1\n"
     ]
    }
   ],
   "source": [
    "# 2566\n",
    "matrix = []\n",
    "for row in range(0, 9):\n",
    "    row = list(map(int, input().split()))\n",
    "    matrix.append(row)\n",
    "\n",
    "row_num = 0\n",
    "col_num = 0\n",
    "value = 0\n",
    "\n",
    "for row in range(len(matrix)):\n",
    "    for col in range(len(matrix[row])):\n",
    "        if (value <= matrix[row][col]):\n",
    "            row_num = row\n",
    "            col_num = col\n",
    "            value = matrix[row][col]\n",
    "\n",
    "print(value)\n",
    "print(row_num+1, col_num+1)\n"
   ]
  },
  {
   "cell_type": "code",
   "execution_count": 5,
   "metadata": {},
   "outputs": [
    {
     "name": "stdout",
     "output_type": "stream",
     "text": [
      "L append b\n",
      "['b']\n",
      "L append a\n",
      "['b', 'a']\n",
      "pop a\n",
      "['b']\n",
      "pop b\n",
      "[]\n",
      "L append a\n",
      "['a']\n",
      "pop a\n",
      "[]\n"
     ]
    }
   ],
   "source": [
    "# Programmers - 짝지어 제거하기\n",
    "s = \"baabaa\"\n",
    "answer = 0\n",
    "L = []\n",
    "for j in s:\n",
    "    if len(L) == 0:\n",
    "        L.append(j)\n",
    "        print(\"L append\", j)\n",
    "    else:\n",
    "        if L[-1] == j:\n",
    "            print(\"pop\", L[-1])\n",
    "            L.pop()\n",
    "        else:\n",
    "            L.append(j)\n",
    "            print(\"L append\", j)\n",
    "    print(L)\n",
    "if len(L) == 0:\n",
    "    answer = 1\n"
   ]
  },
  {
   "cell_type": "code",
   "execution_count": null,
   "metadata": {},
   "outputs": [],
   "source": [
    "# Programmers - 카펫\n",
    "def solution(brown, yellow):\n",
    "    total = brown+yellow\n",
    "    divisor = list([])\n",
    "    for i in range(1, total+1):\n",
    "        if (total % i == 0):\n",
    "            divisor.append(i)\n",
    "\n",
    "    for i in range(0, len(divisor)):\n",
    "        if ((divisor[i]-2)*(divisor[len(divisor)-i-1]-2) == yellow):\n",
    "            answer = [divisor[i], divisor[len(divisor)-i-1]]\n",
    "    return answer\n"
   ]
  },
  {
   "cell_type": "code",
   "execution_count": 97,
   "metadata": {},
   "outputs": [
    {
     "name": "stdout",
     "output_type": "stream",
     "text": [
      "[50, 70]\n",
      "[50]\n"
     ]
    },
    {
     "data": {
      "text/plain": [
       "3"
      ]
     },
     "execution_count": 97,
     "metadata": {},
     "output_type": "execute_result"
    }
   ],
   "source": [
    "# Programmers - 구명보트\n",
    "def solution(people, limit):\n",
    "    people = sorted(people)\n",
    "    answer = 0\n",
    "    i = 0\n",
    "    j = len(people)-1\n",
    "    while (i < j):\n",
    "        if people[i]+people[j] > limit:\n",
    "            people.pop()\n",
    "        elif people[i]+people[j] <= limit:\n",
    "            people.pop()\n",
    "            i += 1\n",
    "        j = len(people)-1\n",
    "        answer += 1\n",
    "    if i == j:\n",
    "        answer += 1\n",
    "    return answer\n",
    "\n",
    "\n",
    "solution([70,  80, 50], 100)\n"
   ]
  },
  {
   "cell_type": "code",
   "execution_count": 127,
   "metadata": {},
   "outputs": [
    {
     "data": {
      "text/plain": [
       "1"
      ]
     },
     "execution_count": 127,
     "metadata": {},
     "output_type": "execute_result"
    }
   ],
   "source": [
    "# Programmers - 예상 대진표\n",
    "def solution(n, a, b):\n",
    "    answer = 1\n",
    "    while (a <= n and b <= n):\n",
    "        if (abs(a-b) == 1 and a//2 != b//2):\n",
    "            break\n",
    "        print(a, b, answer)\n",
    "        if a % 2 == 0:\n",
    "            a = a//2\n",
    "        elif a % 2 == 1:\n",
    "            a = a//2+1\n",
    "        if b % 2 == 0:\n",
    "            b = b//2\n",
    "        elif b % 2 == 1:\n",
    "            b = b//2+1\n",
    "        n = n/2\n",
    "        answer += 1\n",
    "\n",
    "    return answer\n",
    "\n",
    "\n",
    "solution(8, 1, 2)\n"
   ]
  },
  {
   "cell_type": "code",
   "execution_count": 40,
   "metadata": {},
   "outputs": [
    {
     "name": "stdout",
     "output_type": "stream",
     "text": [
      "[1, 1, 2, 3]\n"
     ]
    },
    {
     "data": {
      "text/plain": [
       "3"
      ]
     },
     "execution_count": 40,
     "metadata": {},
     "output_type": "execute_result"
    }
   ],
   "source": [
    "def solution(n):\n",
    "    answer = 0\n",
    "    array = [1]\n",
    "    for i in range(0, n):\n",
    "        if (i == 0):\n",
    "            array.append(1)\n",
    "        else:\n",
    "            array.append(array[i]+array[i-1])\n",
    "    answer = array[len(array)-1] % 1234567\n",
    "\n",
    "    return answer\n",
    "\n",
    "\n",
    "solution(3)\n"
   ]
  },
  {
   "cell_type": "code",
   "execution_count": 174,
   "metadata": {},
   "outputs": [
    {
     "data": {
      "text/plain": [
       "0"
      ]
     },
     "execution_count": 174,
     "metadata": {},
     "output_type": "execute_result"
    }
   ],
   "source": [
    "def solution(s):\n",
    "    answer = 0\n",
    "    stack = []\n",
    "    string_length = len(s)\n",
    "    for i in range(string_length):\n",
    "        s = s+s[0]\n",
    "        s = s[1:len(s)]\n",
    "        for j in range(string_length):\n",
    "            if s[j] == \"(\" or s[j] == \"{\" or s[j] == \"[\":\n",
    "                stack.append(s[j])\n",
    "            else:\n",
    "                if s[j] == \")\":\n",
    "                    if len(stack) == 0:\n",
    "                        stack.append(s[j])\n",
    "                        continue\n",
    "                    if stack[-1] == \"(\":\n",
    "                        stack.pop()\n",
    "                elif s[j] == \"}\":\n",
    "                    if len(stack) == 0:\n",
    "                        stack.append(s[j])\n",
    "                        continue\n",
    "                    if stack[-1] == \"{\":\n",
    "                        stack.pop()\n",
    "                elif s[j] == \"]\":\n",
    "                    if len(stack) == 0:\n",
    "                        stack.append(s[j])\n",
    "                        continue\n",
    "                    if stack[-1] == \"[\":\n",
    "                        stack.pop()\n",
    "                else:\n",
    "                    stack.append(s[j])\n",
    "        if len(stack) == 0:\n",
    "            answer += 1\n",
    "        else:\n",
    "            stack.clear()\n",
    "    return answer\n",
    "\n",
    "\n",
    "solution(\"}}}\")\n"
   ]
  }
 ],
 "metadata": {
  "kernelspec": {
   "display_name": "conda",
   "language": "python",
   "name": "conda"
  },
  "language_info": {
   "codemirror_mode": {
    "name": "ipython",
    "version": 3
   },
   "file_extension": ".py",
   "mimetype": "text/x-python",
   "name": "python",
   "nbconvert_exporter": "python",
   "pygments_lexer": "ipython3",
   "version": "3.8.0"
  },
  "orig_nbformat": 4
 },
 "nbformat": 4,
 "nbformat_minor": 2
}
